{
 "cells": [
  {
   "cell_type": "code",
   "execution_count": 2,
   "metadata": {},
   "outputs": [],
   "source": [
    "import pandas as pd\n",
    "import numpy as np\n",
    "from sklearn.preprocessing import StandardScaler\n",
    "from numpy import *\n",
    "import matplotlib.pyplot as plt\n",
    "\n",
    "from imblearn.over_sampling import SMOTE # 过抽样处理库SMOTE"
   ]
  },
  {
   "cell_type": "code",
   "execution_count": 6,
   "metadata": {},
   "outputs": [],
   "source": [
    "import numpy as np\n",
    "'''读取数据'''\n",
    "col_name = ['Age','Duration','etilogy_trauma','etilogy_nontrauma','DMN_aMPFC','DMN_PCC','ExecuContr_DMPFC','Auditory_MCC','Visual_R.V1','DMN_aMPFC:ExecuContr_DMPFC','Auditory_MCC:Visual_R.V1','label']\n",
    "df=pd.read_excel('E:/DoC_elife/smote-elife-train.xlsx',names=col_name,engine='openpyxl')    \n",
    "x=df.iloc[:,:-1]\n",
    "y=df.iloc[:,-1]\n",
    "groupby_data_orginal=df.groupby('label').count() #根据标签label分类汇总"
   ]
  },
  {
   "cell_type": "code",
   "execution_count": 7,
   "metadata": {},
   "outputs": [],
   "source": [
    "model_smote=SMOTE()    #建立smote模型对象\n",
    "x_smote_resampled,y_smote_resampled=model_smote.fit_resample(x,y)\n",
    "x_smote_resampled=pd.DataFrame(x_smote_resampled,columns=['Age','Duration','etilogy_trauma','etilogy_nontrauma','DMN_aMPFC','DMN_PCC','ExecuContr_DMPFC','Auditory_MCC','Visual_R.V1','DMN_aMPFC:ExecuContr_DMPFC','Auditory_MCC:Visual_R.V1'])\n",
    "y_smote_resampled=pd.DataFrame(y_smote_resampled,columns=['label'])\n",
    "smote_resampled=pd.concat([x_smote_resampled,y_smote_resampled],axis=1)\n",
    "groupby_data_smote=smote_resampled.groupby('label').count()"
   ]
  },
  {
   "cell_type": "code",
   "execution_count": 8,
   "metadata": {},
   "outputs": [
    {
     "name": "stdout",
     "output_type": "stream",
     "text": [
      "       0   1   2   3   4   5   6   7   8   9   ...  82  83  84  85  86  87  \\\n",
      "label   0   0   0   0   0   0   1   0   1   0  ...   1   1   1   1   1   1   \n",
      "\n",
      "       88  89  90  91  \n",
      "label   1   1   1   1  \n",
      "\n",
      "[1 rows x 92 columns]\n"
     ]
    }
   ],
   "source": [
    "groupby_data_smote\n",
    "print(y_smote_resampled.transpose())"
   ]
  },
  {
   "cell_type": "code",
   "execution_count": 11,
   "metadata": {},
   "outputs": [],
   "source": [
    "# 合并数据\n",
    "data_resampled = np.zeros([len(x_smote_resampled.values[:,0]),12])\n",
    "data_resampled[:,:-1] = x_smote_resampled\n",
    "data_resampled[:,-1] = y_smote_resampled.values[:,-1]\n",
    "data_resampled2 = pd.DataFrame(data_resampled)\n",
    "writer = pd.ExcelWriter(r'E:/DoC_elife/new_smote_elife_train.xlsx')#创建数据存放路径\n",
    "data_resampled2.to_excel(writer)\n",
    "writer.save()#文件保存\n",
    "writer.close()#文件关闭"
   ]
  },
  {
   "cell_type": "code",
   "execution_count": null,
   "metadata": {},
   "outputs": [],
   "source": []
  },
  {
   "cell_type": "code",
   "execution_count": null,
   "metadata": {},
   "outputs": [],
   "source": []
  },
  {
   "cell_type": "code",
   "execution_count": null,
   "metadata": {},
   "outputs": [],
   "source": []
  },
  {
   "cell_type": "code",
   "execution_count": null,
   "metadata": {},
   "outputs": [],
   "source": []
  }
 ],
 "metadata": {
  "kernelspec": {
   "display_name": "Python 3",
   "language": "python",
   "name": "python3"
  },
  "language_info": {
   "codemirror_mode": {
    "name": "ipython",
    "version": 3
   },
   "file_extension": ".py",
   "mimetype": "text/x-python",
   "name": "python",
   "nbconvert_exporter": "python",
   "pygments_lexer": "ipython3",
   "version": "3.8.2"
  }
 },
 "nbformat": 4,
 "nbformat_minor": 4
}
